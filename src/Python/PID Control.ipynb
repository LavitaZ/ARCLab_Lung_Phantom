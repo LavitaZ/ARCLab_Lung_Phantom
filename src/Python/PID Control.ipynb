{
 "cells": [
  {
   "cell_type": "code",
   "execution_count": 5,
   "id": "b27666bf",
   "metadata": {},
   "outputs": [],
   "source": [
    "from simple_pid import PID\n",
    "import serial\n",
    "import re"
   ]
  },
  {
   "cell_type": "code",
   "execution_count": 44,
   "id": "fad39c5b",
   "metadata": {},
   "outputs": [],
   "source": [
    "ser = serial.Serial()\n",
    "ser.baudrate = 19200\n",
    "ser.port = 'COM9'\n",
    "ser.open()"
   ]
  },
  {
   "cell_type": "code",
   "execution_count": 45,
   "id": "663507ee",
   "metadata": {},
   "outputs": [
    {
     "data": {
      "text/plain": [
       "552.0"
      ]
     },
     "execution_count": 45,
     "metadata": {},
     "output_type": "execute_result"
    }
   ],
   "source": [
    "line = ser.readline()\n",
    "line = line.decode(\"utf-8\").split()[0]\n",
    "float(line.split()[0])"
   ]
  },
  {
   "cell_type": "code",
   "execution_count": 46,
   "id": "3cb19b36",
   "metadata": {},
   "outputs": [],
   "source": [
    "def read_serial(line):\n",
    "    return float(line.decode(\"utf-8\").split()[0])\n"
   ]
  },
  {
   "cell_type": "code",
   "execution_count": 49,
   "id": "f37fa829",
   "metadata": {},
   "outputs": [
    {
     "data": {
      "text/plain": [
       "552.0"
      ]
     },
     "execution_count": 49,
     "metadata": {},
     "output_type": "execute_result"
    }
   ],
   "source": [
    "read_serial(ser.readline())"
   ]
  },
  {
   "cell_type": "code",
   "execution_count": 50,
   "id": "ab1aa39a",
   "metadata": {},
   "outputs": [
    {
     "data": {
      "text/plain": [
       "12"
      ]
     },
     "execution_count": 50,
     "metadata": {},
     "output_type": "execute_result"
    }
   ],
   "source": [
    "ser.write(b'setpoint:550')"
   ]
  },
  {
   "cell_type": "code",
   "execution_count": null,
   "id": "9119174c",
   "metadata": {},
   "outputs": [],
   "source": [
    "def pid_control(p, i, d, target_pressure){\n",
    "    pid = PID(p, i, d, setpoint=target_pressure)\n",
    "    current_pressure = read_serial(ser.readline())\n",
    "    while (True) {\n",
    "        control = pid(current_pressure);\n",
    "        current_pressure = read_serial(ser.readline())\n",
    "    }\n",
    "}"
   ]
  }
 ],
 "metadata": {
  "kernelspec": {
   "display_name": "Python 3",
   "language": "python",
   "name": "python3"
  },
  "language_info": {
   "codemirror_mode": {
    "name": "ipython",
    "version": 3
   },
   "file_extension": ".py",
   "mimetype": "text/x-python",
   "name": "python",
   "nbconvert_exporter": "python",
   "pygments_lexer": "ipython3",
   "version": "3.7.3"
  }
 },
 "nbformat": 4,
 "nbformat_minor": 5
}
