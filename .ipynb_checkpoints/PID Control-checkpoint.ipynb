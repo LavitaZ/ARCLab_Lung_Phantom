{
 "cells": [
  {
   "cell_type": "code",
   "execution_count": 13,
   "id": "b27666bf",
   "metadata": {},
   "outputs": [],
   "source": [
    "from simple_pid import PID\n",
    "import serial\n",
    "import re"
   ]
  },
  {
   "cell_type": "code",
   "execution_count": 5,
   "id": "fad39c5b",
   "metadata": {},
   "outputs": [],
   "source": [
    "ser = serial.Serial()\n",
    "ser.baudrate = 19200\n",
    "ser.port = 'COM9'"
   ]
  },
  {
   "cell_type": "code",
   "execution_count": 6,
   "id": "9ba9a580",
   "metadata": {},
   "outputs": [
    {
     "data": {
      "text/plain": [
       "Serial<id=0x1a245c502e8, open=False>(port='COM9', baudrate=19200, bytesize=8, parity='N', stopbits=1, timeout=None, xonxoff=False, rtscts=False, dsrdtr=False)"
      ]
     },
     "execution_count": 6,
     "metadata": {},
     "output_type": "execute_result"
    }
   ],
   "source": [
    "ser"
   ]
  },
  {
   "cell_type": "code",
   "execution_count": 7,
   "id": "e7eb1c60",
   "metadata": {},
   "outputs": [],
   "source": [
    "ser.open()"
   ]
  },
  {
   "cell_type": "code",
   "execution_count": 15,
   "id": "663507ee",
   "metadata": {},
   "outputs": [],
   "source": [
    "line = ser.readline()\n",
    "line = line.decode(\"utf-8\")"
   ]
  },
  {
   "cell_type": "code",
   "execution_count": 20,
   "id": "f0462a6a",
   "metadata": {},
   "outputs": [
    {
     "data": {
      "text/plain": [
       "552.0"
      ]
     },
     "execution_count": 20,
     "metadata": {},
     "output_type": "execute_result"
    }
   ],
   "source": [
    "float(line.split()[0])"
   ]
  },
  {
   "cell_type": "code",
   "execution_count": null,
   "id": "3cb19b36",
   "metadata": {},
   "outputs": [],
   "source": [
    "def read_serial(line){\n",
    "    return float(line.decode(\"utf-8\").split()[0])\n",
    "}"
   ]
  },
  {
   "cell_type": "code",
   "execution_count": null,
   "id": "9119174c",
   "metadata": {},
   "outputs": [],
   "source": [
    "def pid_control(p, i, d, target_pressure){\n",
    "    pid = PID(p, i, d, setpoint=target_pressure)\n",
    "    while\n",
    "}"
   ]
  }
 ],
 "metadata": {
  "kernelspec": {
   "display_name": "Python 3",
   "language": "python",
   "name": "python3"
  },
  "language_info": {
   "codemirror_mode": {
    "name": "ipython",
    "version": 3
   },
   "file_extension": ".py",
   "mimetype": "text/x-python",
   "name": "python",
   "nbconvert_exporter": "python",
   "pygments_lexer": "ipython3",
   "version": "3.7.3"
  }
 },
 "nbformat": 4,
 "nbformat_minor": 5
}
